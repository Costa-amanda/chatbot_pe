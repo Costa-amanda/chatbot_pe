{
 "cells": [
  {
   "cell_type": "code",
   "execution_count": 6,
   "metadata": {},
   "outputs": [],
   "source": [
    "import pandas as pd\n",
    "import numpy as np\n",
    "from sklearn import tree\n",
    "from sklearn.tree import export_graphviz\n",
    "\n",
    "train = pd.read_csv('casas-tratadas.csv') \n",
    "drop_elements = ['id', 'date', 'price', 'yr_built', 'yr_renovated', 'zipcode', 'lat', 'long', 'sqft_living15',\n",
    "                     'sqft_lot15', 'Preco_Por_Area_Construida']\n",
    "train = train.drop(drop_elements, axis = 1)\n",
    "for coluna in train.keys():\n",
    "    if coluna != \"Caro\":\n",
    "        media = train[coluna].mean()\n",
    "        train[coluna] = train[coluna].apply(lambda valor: 1 if valor > media else 0)\n",
    "        \n",
    "y_train = train['Caro']\n",
    "x_train = train.drop(['Caro'], axis=1).values \n",
    "decision_tree = tree.DecisionTreeClassifier(max_depth = 20)\n",
    "decision_tree.fit(x_train, y_train)\n",
    "with open(\"aula.dot\", 'w') as f:\n",
    "     f = tree.export_graphviz(decision_tree,\n",
    "                              out_file=f,\n",
    "                              max_depth = 20,\n",
    "                              impurity = True,\n",
    "                              feature_names = list(train.drop(['Caro'], axis=1)),\n",
    "                              class_names = ['False', 'True'],\n",
    "                              rounded = True,\n",
    "                              filled= True )\n",
    "\n",
    "\n",
    "\n",
    "        "
   ]
  },
  {
   "cell_type": "code",
   "execution_count": null,
   "metadata": {},
   "outputs": [],
   "source": []
  }
 ],
 "metadata": {
  "kernelspec": {
   "display_name": "Python 3",
   "language": "python",
   "name": "python3"
  },
  "language_info": {
   "codemirror_mode": {
    "name": "ipython",
    "version": 3
   },
   "file_extension": ".py",
   "mimetype": "text/x-python",
   "name": "python",
   "nbconvert_exporter": "python",
   "pygments_lexer": "ipython3",
   "version": "3.8.3"
  }
 },
 "nbformat": 4,
 "nbformat_minor": 4
}
