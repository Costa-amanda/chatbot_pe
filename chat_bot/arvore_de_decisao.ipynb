{
 "cells": [
  {
   "cell_type": "code",
   "execution_count": 8,
   "metadata": {},
   "outputs": [],
   "source": [
    "import pandas as pd\n",
    "import numpy as np\n",
    "from sklearn import tree\n",
    "from sklearn.tree import export_graphviz\n",
    "\n",
    "train = pd.read_csv('casas_treino_pre_tratamento.csv') \n",
    "drop_elements = ['id','price', 'zipcode', 'yr_renovated', 'lat', 'long', 'sqft_living15',\n",
    "                'sqft_lot15', 'preco_por_area_cons']\n",
    "train = train.drop(drop_elements, axis = 1)\n",
    "for coluna in train.keys():\n",
    "    if coluna != \"caro\":\n",
    "        media = train[coluna].mean()\n",
    "        with open(\"medias.txt\", 'a') as f:\n",
    "            string_media = str(\"{}:{}\\n\").format(str(coluna), str(media))\n",
    "            f.write(string_media)\n",
    "        train[coluna] = train[coluna].apply(lambda valor: 2 if valor > 1.1*media else( 1 if valor > 0.90*media else 0) )\n",
    "train.to_csv (r'tratado.csv', index = False, header=True)\n",
    "y_train = train['caro']\n",
    "x_train = train.drop(['caro'], axis=1).values \n",
    "decision_tree = tree.DecisionTreeClassifier(max_depth = 20)\n",
    "decision_tree.fit(x_train, y_train)\n",
    "with open(\"aula1.dot\", 'w') as f:\n",
    "     f = tree.export_graphviz(decision_tree,\n",
    "                              out_file=f,\n",
    "                              max_depth = 20,\n",
    "                              impurity = True,\n",
    "                              feature_names = list(train.drop(['caro'], axis=1)),\n",
    "                              class_names = ['0', '1', '2'],\n",
    "                              rounded = True,\n",
    "                              filled= True )"
   ]
  },
  {
   "cell_type": "code",
   "execution_count": null,
   "metadata": {},
   "outputs": [],
   "source": []
  }
 ],
 "metadata": {
  "kernelspec": {
   "display_name": "Python 3",
   "language": "python",
   "name": "python3"
  },
  "language_info": {
   "codemirror_mode": {
    "name": "ipython",
    "version": 3
   },
   "file_extension": ".py",
   "mimetype": "text/x-python",
   "name": "python",
   "nbconvert_exporter": "python",
   "pygments_lexer": "ipython3",
   "version": "3.8.3"
  }
 },
 "nbformat": 4,
 "nbformat_minor": 4
}
